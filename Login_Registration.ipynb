{
  "nbformat": 4,
  "nbformat_minor": 0,
  "metadata": {
    "colab": {
      "provenance": [],
      "authorship_tag": "ABX9TyNc7o58Y/RibjDvQP3CQCIg",
      "include_colab_link": true
    },
    "kernelspec": {
      "name": "python3",
      "display_name": "Python 3"
    },
    "language_info": {
      "name": "python"
    }
  },
  "cells": [
    {
      "cell_type": "markdown",
      "metadata": {
        "id": "view-in-github",
        "colab_type": "text"
      },
      "source": [
        "<a href=\"https://colab.research.google.com/github/GayathriPgithub/Python/blob/main/Login_Registration.ipynb\" target=\"_parent\"><img src=\"https://colab.research.google.com/assets/colab-badge.svg\" alt=\"Open In Colab\"/></a>"
      ]
    },
    {
      "cell_type": "markdown",
      "source": [],
      "metadata": {
        "id": "DZJ9VerTK_lk"
      }
    },
    {
      "cell_type": "markdown",
      "source": [
        "REGISTRATION"
      ],
      "metadata": {
        "id": "03Y1jJyoaTxa"
      }
    },
    {
      "cell_type": "code",
      "execution_count": null,
      "metadata": {
        "id": "h6-dkgPhK3rp"
      },
      "outputs": [],
      "source": [
        "import re\n",
        "def registration():\n",
        "     user=input('enter email to register:')\n",
        "     file=open('credentials.txt','r')\n",
        "     info=file.read()\n",
        "     if user in info:\n",
        "       return 'User exists'\n",
        "     f.close()  \n",
        "     password=input('enter password to register:')\n",
        "     user_pattern=r'\\b[A-Za-z0-9._%+-]+@[A-Za-z0-9.-]+\\.[A-Z|a-z]{2,}\\b'\n",
        "     pass_pattern=\"^(?=.*[a-z])(?=.*[A-Z])(?=.*\\d)(?=.*[@!#$%&*?])[A-Za-z\\d@#!$%&*?]{5,16}$\"\n",
        "     compile=re.compile(pass_pattern)\n",
        "     if (re.fullmatch(user_pattern,user)):\n",
        "       if (re.search(compile,password)): \n",
        "             data=user+','+password+\"\\n\"\n",
        "             file=open('credentials.txt','a')  \n",
        "             file.write(data)\n",
        "             print('Registration is successful')      \n",
        "             \n",
        "       else:\n",
        "              print('Passwors invalid')\n",
        "     else:\n",
        "        print('Email is invalid')\n",
        "\n",
        "\n",
        "    \n",
        "registration()"
      ]
    },
    {
      "cell_type": "markdown",
      "source": [
        "LOGIN"
      ],
      "metadata": {
        "id": "l3no53uFLSHS"
      }
    },
    {
      "cell_type": "code",
      "source": [
        "def login():\n",
        "   file2=open(\"credentials.txt\",\"r\")\n",
        "   user=input(\" login username \")\n",
        "   \n",
        "   for i in file2:\n",
        "     s=i.split(',')\n",
        "     if user==s[0]:\n",
        "       password=input('login password')\n",
        "       if password==s[1].strip(\"\\n\"):\n",
        "           print('Login successful')\n",
        "       else:\n",
        "         forget_password()\n",
        "     else:\n",
        "         registration()\n",
        "login()"
      ],
      "metadata": {
        "id": "BBauepQ2LIht"
      },
      "execution_count": null,
      "outputs": []
    },
    {
      "cell_type": "markdown",
      "source": [
        "FORGET PASSWORD"
      ],
      "metadata": {
        "id": "RlRkykEuLUo9"
      }
    },
    {
      "cell_type": "code",
      "source": [
        "def forget_password():\n",
        " file2=open(\"credentials.txt\",\"r\")\n",
        " s=file2.readlines()\n",
        " user=input(\"enter the username: To retreive password \")\n",
        " for i in s:\n",
        "   s1=i.split(',')\n",
        "   if user==s1[0]:\n",
        "    print(s1[1])\n",
        "\n",
        "forget_password()"
      ],
      "metadata": {
        "id": "Ope87WVBLXUQ"
      },
      "execution_count": null,
      "outputs": []
    },
    {
      "cell_type": "markdown",
      "source": [
        "MAIN()"
      ],
      "metadata": {
        "id": "_y4kduqwLfHh"
      }
    },
    {
      "cell_type": "code",
      "source": [
        "def main():\n",
        "  option=input()\n",
        "  if option=='R':\n",
        "    registration()\n",
        "  elif option=='L':  \n",
        "    login()\n",
        "  elif option=='FP':\n",
        "     forget_password()\n",
        "  else:\n",
        "     print('give correct input')  \n",
        "\n",
        "main()   "
      ],
      "metadata": {
        "id": "-5mid5bpLh43",
        "colab": {
          "base_uri": "https://localhost:8080/",
          "height": 391
        },
        "outputId": "dc6f0c4c-043a-46e3-9779-1d4a6bfd70aa"
      },
      "execution_count": null,
      "outputs": [
        {
          "name": "stdout",
          "output_type": "stream",
          "text": [
            "R\n",
            "enter email to register:max@gmail.com\n"
          ]
        },
        {
          "output_type": "error",
          "ename": "FileNotFoundError",
          "evalue": "ignored",
          "traceback": [
            "\u001b[0;31m---------------------------------------------------------------------------\u001b[0m",
            "\u001b[0;31mFileNotFoundError\u001b[0m                         Traceback (most recent call last)",
            "\u001b[0;32m<ipython-input-4-3ff5b0806a12>\u001b[0m in \u001b[0;36m<module>\u001b[0;34m\u001b[0m\n\u001b[1;32m     10\u001b[0m      \u001b[0mprint\u001b[0m\u001b[0;34m(\u001b[0m\u001b[0;34m'give correct input'\u001b[0m\u001b[0;34m)\u001b[0m\u001b[0;34m\u001b[0m\u001b[0;34m\u001b[0m\u001b[0m\n\u001b[1;32m     11\u001b[0m \u001b[0;34m\u001b[0m\u001b[0m\n\u001b[0;32m---> 12\u001b[0;31m \u001b[0mmain\u001b[0m\u001b[0;34m(\u001b[0m\u001b[0;34m)\u001b[0m\u001b[0;34m\u001b[0m\u001b[0;34m\u001b[0m\u001b[0m\n\u001b[0m",
            "\u001b[0;32m<ipython-input-4-3ff5b0806a12>\u001b[0m in \u001b[0;36mmain\u001b[0;34m()\u001b[0m\n\u001b[1;32m      2\u001b[0m   \u001b[0moption\u001b[0m\u001b[0;34m=\u001b[0m\u001b[0minput\u001b[0m\u001b[0;34m(\u001b[0m\u001b[0;34m)\u001b[0m\u001b[0;34m\u001b[0m\u001b[0;34m\u001b[0m\u001b[0m\n\u001b[1;32m      3\u001b[0m   \u001b[0;32mif\u001b[0m \u001b[0moption\u001b[0m\u001b[0;34m==\u001b[0m\u001b[0;34m'R'\u001b[0m\u001b[0;34m:\u001b[0m\u001b[0;34m\u001b[0m\u001b[0;34m\u001b[0m\u001b[0m\n\u001b[0;32m----> 4\u001b[0;31m     \u001b[0mregistration\u001b[0m\u001b[0;34m(\u001b[0m\u001b[0;34m)\u001b[0m\u001b[0;34m\u001b[0m\u001b[0;34m\u001b[0m\u001b[0m\n\u001b[0m\u001b[1;32m      5\u001b[0m   \u001b[0;32melif\u001b[0m \u001b[0moption\u001b[0m\u001b[0;34m==\u001b[0m\u001b[0;34m'L'\u001b[0m\u001b[0;34m:\u001b[0m\u001b[0;34m\u001b[0m\u001b[0;34m\u001b[0m\u001b[0m\n\u001b[1;32m      6\u001b[0m     \u001b[0mlogin\u001b[0m\u001b[0;34m(\u001b[0m\u001b[0;34m)\u001b[0m\u001b[0;34m\u001b[0m\u001b[0;34m\u001b[0m\u001b[0m\n",
            "\u001b[0;32m<ipython-input-2-ac4c0b6a0192>\u001b[0m in \u001b[0;36mregistration\u001b[0;34m()\u001b[0m\n\u001b[1;32m      2\u001b[0m \u001b[0;32mdef\u001b[0m \u001b[0mregistration\u001b[0m\u001b[0;34m(\u001b[0m\u001b[0;34m)\u001b[0m\u001b[0;34m:\u001b[0m\u001b[0;34m\u001b[0m\u001b[0;34m\u001b[0m\u001b[0m\n\u001b[1;32m      3\u001b[0m      \u001b[0muser\u001b[0m\u001b[0;34m=\u001b[0m\u001b[0minput\u001b[0m\u001b[0;34m(\u001b[0m\u001b[0;34m'enter email to register:'\u001b[0m\u001b[0;34m)\u001b[0m\u001b[0;34m\u001b[0m\u001b[0;34m\u001b[0m\u001b[0m\n\u001b[0;32m----> 4\u001b[0;31m      \u001b[0mfile\u001b[0m\u001b[0;34m=\u001b[0m\u001b[0mopen\u001b[0m\u001b[0;34m(\u001b[0m\u001b[0;34m'credentials.txt'\u001b[0m\u001b[0;34m,\u001b[0m\u001b[0;34m'r'\u001b[0m\u001b[0;34m)\u001b[0m\u001b[0;34m\u001b[0m\u001b[0;34m\u001b[0m\u001b[0m\n\u001b[0m\u001b[1;32m      5\u001b[0m      \u001b[0minfo\u001b[0m\u001b[0;34m=\u001b[0m\u001b[0mfile\u001b[0m\u001b[0;34m.\u001b[0m\u001b[0mread\u001b[0m\u001b[0;34m(\u001b[0m\u001b[0;34m)\u001b[0m\u001b[0;34m\u001b[0m\u001b[0;34m\u001b[0m\u001b[0m\n\u001b[1;32m      6\u001b[0m      \u001b[0;32mif\u001b[0m \u001b[0muser\u001b[0m \u001b[0;32min\u001b[0m \u001b[0minfo\u001b[0m\u001b[0;34m:\u001b[0m\u001b[0;34m\u001b[0m\u001b[0;34m\u001b[0m\u001b[0m\n",
            "\u001b[0;31mFileNotFoundError\u001b[0m: [Errno 2] No such file or directory: 'credentials.txt'"
          ]
        }
      ]
    }
  ]
}